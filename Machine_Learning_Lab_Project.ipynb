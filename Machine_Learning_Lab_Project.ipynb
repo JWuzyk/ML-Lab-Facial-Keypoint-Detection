{
  "nbformat": 4,
  "nbformat_minor": 0,
  "metadata": {
    "colab": {
      "name": "Machine Learning Lab Project.ipynb",
      "version": "0.3.2",
      "provenance": [],
      "collapsed_sections": [],
      "include_colab_link": true
    },
    "kernelspec": {
      "name": "python3",
      "display_name": "Python 3"
    },
    "accelerator": "GPU"
  },
  "cells": [
    {
      "cell_type": "markdown",
      "metadata": {
        "id": "view-in-github",
        "colab_type": "text"
      },
      "source": [
        "<a href=\"https://colab.research.google.com/github/JWuzyk/ML-Lab-Facial-Keypoint-Detection/blob/master/Machine_Learning_Lab_Project.ipynb\" target=\"_parent\"><img src=\"https://colab.research.google.com/assets/colab-badge.svg\" alt=\"Open In Colab\"/></a>"
      ]
    },
    {
      "cell_type": "markdown",
      "metadata": {
        "id": "KVk5Q8W4Aq42",
        "colab_type": "text"
      },
      "source": [
        "Tasks:\n",
        "  - Preprocessing ()\n",
        "  - Data Augmentation (partially done) see https://imgaug.readthedocs.io/en/latest/source/examples_keypoints.html (Reflection, Rotation, Contrast Jittering?)\n",
        "  - Different Models for each keypoint\n",
        "  - Transfer Learning (partially done) - Could add more refinement in the imported network, see keras documentation, need to retrain some of layers in the network, consider using other networks, potentially one pretrained on faces not ImageNet ,eg. VGGFace https://gist.github.com/EncodeTS/6bbe8cb8bebad7a672f0d872561782d9\n",
        "  - Find More Data e.g. http://www.milbo.org/muct/,https://github.com/soheillll/Facial-Keypoint-Detection,https://www.kaggle.com/selfishgene/youtube-faces-with-facial-keypoints, http://umdfaces.io/\n",
        "  - Hyperparameter Tuning with Tensorboard + saving models see https://www.youtube.com/watch?v=BqgTU7_cBnk (learing rate, optimiser )\n",
        "  - Do a proper validartion split\n",
        "  - Set up Kaggle submission\n",
        "  - Use an emsemble model\n",
        "\n",
        "\n",
        "Stretch Goals\n",
        "  - Combine with face detection and apply to other images\n",
        "  \n",
        "Challenge:\n",
        "  - Lots of the data is missing values so we can't train on all of it and there is no sensible way to fill in missing data\n",
        "  \n",
        "Solution: \n",
        "  - Train individual models for each feature\n",
        "  \n",
        "Resources:\n",
        "  -http://cs231n.stanford.edu/reports/2016/pdfs/010_Report.pdf ; basically a paper by someone doing exactly what we are doing"
      ]
    },
    {
      "cell_type": "markdown",
      "metadata": {
        "id": "u1zhtO7jROxz",
        "colab_type": "text"
      },
      "source": [
        "## Load data\n",
        "\n"
      ]
    },
    {
      "cell_type": "code",
      "metadata": {
        "id": "xtwklNQKxIPq",
        "colab_type": "code",
        "outputId": "9b92bad2-aa80-4e4d-936c-cd3af1652521",
        "colab": {
          "base_uri": "https://localhost:8080/",
          "height": 237
        }
      },
      "source": [
        "# Load from github\n",
        "\n",
        "!git clone https://github.com/JWuzyk/ML-Lab-Facial-Keypoint-Detection/\n",
        "%cd ML-Lab-Facial-Keypoint-Detection/ \n",
        "\n",
        "!unzip data/test.zip \n",
        "!unzip data/training.zip\n",
        "\n",
        "!ls"
      ],
      "execution_count": 0,
      "outputs": [
        {
          "output_type": "stream",
          "text": [
            "Cloning into 'ML-Lab-Facial-Keypoint-Detection'...\n",
            "remote: Enumerating objects: 18, done.\u001b[K\n",
            "remote: Counting objects:   5% (1/18)   \u001b[K\rremote: Counting objects:  11% (2/18)   \u001b[K\rremote: Counting objects:  16% (3/18)   \u001b[K\rremote: Counting objects:  22% (4/18)   \u001b[K\rremote: Counting objects:  27% (5/18)   \u001b[K\rremote: Counting objects:  33% (6/18)   \u001b[K\rremote: Counting objects:  38% (7/18)   \u001b[K\rremote: Counting objects:  44% (8/18)   \u001b[K\rremote: Counting objects:  50% (9/18)   \u001b[K\rremote: Counting objects:  55% (10/18)   \u001b[K\rremote: Counting objects:  61% (11/18)   \u001b[K\rremote: Counting objects:  66% (12/18)   \u001b[K\rremote: Counting objects:  72% (13/18)   \u001b[K\rremote: Counting objects:  77% (14/18)   \u001b[K\rremote: Counting objects:  83% (15/18)   \u001b[K\rremote: Counting objects:  88% (16/18)   \u001b[K\rremote: Counting objects:  94% (17/18)   \u001b[K\rremote: Counting objects: 100% (18/18)   \u001b[K\rremote: Counting objects: 100% (18/18), done.\u001b[K\n",
            "remote: Compressing objects: 100% (16/16), done.\u001b[K\n",
            "remote: Total 18 (delta 1), reused 9 (delta 0), pack-reused 0\u001b[K\n",
            "Unpacking objects: 100% (18/18), done.\n",
            "/content/ML-Lab-Facial-Keypoint-Detection\n",
            "Archive:  data/test.zip\n",
            "  inflating: test.csv                \n",
            "Archive:  data/training.zip\n",
            "  inflating: training.csv            \n",
            "data  Machine_Learning_Lab_Project.ipynb  README.md  test.csv  training.csv\n"
          ],
          "name": "stdout"
        }
      ]
    },
    {
      "cell_type": "code",
      "metadata": {
        "id": "T2NGg0r1zpQV",
        "colab_type": "code",
        "outputId": "5ea40eac-0a74-48ce-f3a3-0267ef00ee26",
        "colab": {
          "base_uri": "https://localhost:8080/",
          "height": 51
        }
      },
      "source": [
        "#Reading in the data from my drive as pandas Dataframes\n",
        "\n",
        "import pandas as pd\n",
        "import numpy as np\n",
        "import matplotlib.pyplot as plt\n",
        "\n",
        "IDLookupTable = pd.read_csv('data/IdLookupTable.csv')\n",
        "Training = pd.read_csv('training.csv')\n",
        "Test = pd.read_csv('test.csv')\n",
        "print(Training.shape)\n",
        "\n",
        "# For now I am just naively dropping all data with missing data. We should deifnitely do something more sophisticates as discussed.\n",
        "\n",
        "Training = Training.dropna()\n",
        "Training = Training.reset_index(drop=True)\n",
        "print(Training.shape)\n"
      ],
      "execution_count": 57,
      "outputs": [
        {
          "output_type": "stream",
          "text": [
            "(7049, 31)\n",
            "(2140, 31)\n"
          ],
          "name": "stdout"
        }
      ]
    },
    {
      "cell_type": "code",
      "metadata": {
        "id": "LUHzi1diDoAa",
        "colab_type": "code",
        "colab": {}
      },
      "source": [
        "#separate data into columns\n",
        "\n",
        "left_eye_center = df.iloc[:,0:2]\n",
        "right_eye_center = df.iloc[:,2:4]\n",
        "left_eye_inner_corner = df.iloc[:,4:6]\n",
        "left_eye_outer_corner = df.iloc[:,6:8]\n",
        "right_eye_inner_corner = df.iloc[:,8:10]\n",
        "right_eye_outer_corner = df.iloc[:,10:12]\n",
        "\n",
        "left_eyebrow_inner_end = df.iloc[:,12:14]\n",
        "left_eyebrow_outer_end = df.iloc[:,14:16]\n",
        "right_eyebrow_inner_end = df.iloc[:,16:18]\n",
        "right_eyebrow_outer_end = df.iloc[:,18:20]\n",
        "\n",
        "nose_tip = df.iloc[:,20:22]\n",
        "\n",
        "mouth_left_corner = df.iloc[:,22:24]\n",
        "mouth_right_corner = df.iloc[:,24:26]\n",
        "mouth_center_top_lip = df.iloc[:,26:28]\n",
        "mouth_center_bottom_lip = df.iloc[:,28:30]\n",
        "image = df.iloc[:,30]"
      ],
      "execution_count": 0,
      "outputs": []
    },
    {
      "cell_type": "markdown",
      "metadata": {
        "id": "1TesbU4f_Jvk",
        "colab_type": "text"
      },
      "source": [
        "Hi Libby\n",
        "\n",
        "Hello!\n",
        "\n",
        "How's it going?\n",
        "\n",
        "Pretty good...maybe we don't need whatsapp anymore\n",
        "\n",
        "Seems so"
      ]
    },
    {
      "cell_type": "code",
      "metadata": {
        "id": "0ImuSWcu6ScA",
        "colab_type": "code",
        "colab": {}
      },
      "source": [
        "#Turning the data from a dataframe into x_train,y_train, x_test numpy arrays so that we can use it\n",
        "# x_train has shape (2140,96,96,3) 2140 images each 96x96 with 3 colour channels, y_train has shape (2140,30), in the form (x_1,y_1,...x_15,y_15) for the 15 keypoints\n",
        "\n",
        "# Copied the getimage method from https://github.com/shichaoji/img_extract/blob/master/img_extract.py, definitely is a faster way for reading in data but it's nice for viewing the images\n",
        "\n",
        "from PIL import Image\n",
        "\n",
        "# Takes a string representing a 96x96 image as in the last column of the training.csv and returns a PIL image\n",
        "def getimage(each):\n",
        "    img = Image.new( 'RGB', (96,96), \"black\") \n",
        "    pixels = img.load() # create the pixel map\n",
        "    \n",
        "    cot=[int(i) for i in each.split(' ')]\n",
        "    for i in range(img.size[0]):    # for every pixel:\n",
        "        for j in range(img.size[1]):\n",
        "            pixels[i,j] = (cot[i+j*96],cot[i+j*96],cot[i+j*96]) # set the colour accordingly\n",
        "    return img\n",
        "\n",
        "  \n",
        "  \n",
        "n_rows = Training.shape[0]\n",
        "\n",
        "# turn Training into numpy arrays\n",
        "x_train=np.zeros((n_rows,96,96,3))\n",
        "\n",
        "for i in range(n_rows):\n",
        "  im = np.array(getimage(Training['Image'][i]))\n",
        "  x_train[i] = im\n",
        "\n",
        "\n",
        "y_train = np.zeros((n_rows,30))\n",
        "\n",
        "for i in range(n_rows):\n",
        "  y_train[i] = np.array(Training.iloc[i,:-1])\n",
        "  \n",
        "\n",
        "\n",
        "# turn Test into numpy arrays\n",
        "\n",
        "n_rows = Test.shape[0]\n",
        "\n",
        "x_test=np.zeros((n_rows,96,96,3))\n",
        "\n",
        "for i in range(n_rows):\n",
        "  im = np.array(getimage(Test['Image'][i]))\n",
        "  x_test[i] = im\n",
        "\n",
        "\n"
      ],
      "execution_count": 0,
      "outputs": []
    },
    {
      "cell_type": "code",
      "metadata": {
        "id": "MOyrVl-75P4-",
        "colab_type": "code",
        "outputId": "4bfd67ad-ed86-43db-b559-0ab755354028",
        "colab": {
          "base_uri": "https://localhost:8080/",
          "height": 34
        }
      },
      "source": [
        "import imgaug as ia\n",
        "import imgaug.augmenters as iaa\n",
        "from imgaug.augmentables import Keypoint, KeypointsOnImage\n",
        "\n",
        "# Data Augmentation \n",
        "\n",
        "images = (x_train).astype(np.uint8)\n",
        "keys= y_train\n",
        "#ia.imshow(image)\n",
        "\n",
        "keys = keys.reshape(keys.shape[0],15,2)\n",
        "\n",
        "keypoints =[]\n",
        "for k in range(x_train.shape[0]):\n",
        "  kps = KeypointsOnImage([Keypoint(*keys[k,i,:]) for i in range(15)], shape=image.shape)\n",
        "  keypoints.append(kps)\n",
        "  \n",
        "\n",
        "seq = iaa.Sequential([\n",
        "    iaa.Affine(rotate=10,)\n",
        "])\n",
        "\n",
        "image_aug, kps_aug = seq(images=images, keypoints=keypoints)\n",
        "print(image_aug.shape)\n",
        "\n",
        "\n",
        "# image with keypoints before/after augmentation (shown below)\n",
        "#image_before = keypoints[30].draw_on_image(images[30], size=2)\n",
        "#image_after = kps_aug[30].draw_on_image(image_aug[30], size=2)\n",
        "#ia.imshow(image_before)\n",
        "#ia.imshow(image_after)\n",
        "\n",
        "keys_aug = np.array([keypoints[i].to_xy_array() for i in range(len(keypoints))]).reshape(len(keypoints),30)\n",
        "\n",
        "\n",
        "# add augmented data to training data\n",
        "x_train = np.concatenate((x_train,image_aug))\n",
        "y_train = np.concatenate((y_train,keys_aug))"
      ],
      "execution_count": 59,
      "outputs": [
        {
          "output_type": "stream",
          "text": [
            "(2140, 96, 96, 3)\n"
          ],
          "name": "stdout"
        }
      ]
    },
    {
      "cell_type": "code",
      "metadata": {
        "id": "2B0MJE7Q6C9z",
        "colab_type": "code",
        "colab": {}
      },
      "source": [
        "# normalize\n",
        "\n",
        "x_train = x_train/255 "
      ],
      "execution_count": 0,
      "outputs": []
    },
    {
      "cell_type": "markdown",
      "metadata": {
        "id": "sriuDeZKOFE1",
        "colab_type": "text"
      },
      "source": [
        "# Plotting functions"
      ]
    },
    {
      "cell_type": "code",
      "metadata": {
        "id": "goAcU2bsyy0m",
        "colab_type": "code",
        "outputId": "bdbdb5e9-888c-461a-dd6f-20814bbca9b9",
        "colab": {
          "base_uri": "https://localhost:8080/",
          "height": 113
        }
      },
      "source": [
        "\n",
        "from PIL import ImageDraw\n",
        "\n",
        "def plotWithKeypoints1(data):\n",
        "\n",
        "  key = np.array(data.iloc[:-1])\n",
        "  key = key.astype(int).reshape(15,2)\n",
        "  \n",
        "  im = getimage(data['Image'])\n",
        "  \n",
        "  draw = ImageDraw.Draw(im)\n",
        "  for x,y in zip(key[:,0],key[:,1]):\n",
        "    draw.ellipse((x-1, y-1, x+1, y+1),fill = 'blue')\n",
        "  return im\n",
        "\n",
        "def plotWithKeypoints2(im,key):\n",
        "  \n",
        "  key = key.astype(int).reshape(15,2)\n",
        "  img = getimage(im)\n",
        "  draw = ImageDraw.Draw(img)\n",
        "  for x,y in zip(key[:,0],key[:,1]):\n",
        "    draw.ellipse((x-1, y-1, x+1, y+1),fill = 'blue')\n",
        "  \n",
        "  return img\n",
        "\n",
        "plotWithKeypoints1(Training.iloc[100,:])"
      ],
      "execution_count": 0,
      "outputs": [
        {
          "output_type": "execute_result",
          "data": {
            "image/png": "[encoded data removed]",
            "text/plain": [
              "<PIL.Image.Image image mode=RGB size=96x96 at 0x7FBA99006630>"
            ]
          },
          "metadata": {
            "tags": []
          },
          "execution_count": 4
        }
      ]
    },
    {
      "cell_type": "markdown",
      "metadata": {
        "id": "2L52A2jZOISl",
        "colab_type": "text"
      },
      "source": [
        "# Create and Train model"
      ]
    },
    {
      "cell_type": "code",
      "metadata": {
        "id": "QFc9WfkXxa3q",
        "colab_type": "code",
        "outputId": "358dc0ef-d7fa-4e82-a2b4-e635b5507a93",
        "colab": {
          "base_uri": "https://localhost:8080/",
          "height": 1000
        }
      },
      "source": [
        "from keras.models import Sequential\n",
        "from keras.layers import Dense, Activation, Conv2D, MaxPooling2D, Flatten, Dropout, GlobalAveragePooling2D\n",
        "from keras.preprocessing import image\n",
        "from keras.applications.xception import Xception\n",
        "from keras.models import Model\n",
        "from keras import backend as K\n",
        "\n",
        "# Transfer learning based on https://keras.io/applications/\n",
        "\n",
        "\n",
        "def make_model_transfer():\n",
        "  # Create a model based on transfer learning from one of the built in keras models, note this section uses the funtional API not Sequential model\n",
        "  # Xception is a cool model see https://www.youtube.com/watch?v=KfV8CJh7hE0\n",
        "  # Should replace Xception with VGG Face or at the very least retrain some of it\n",
        "  \n",
        "  #importing the base model, should double check that the input is fine\n",
        "  base_model = Xception(weights='imagenet', include_top=False)\n",
        "  x = base_model.output\n",
        "  \n",
        "  # add a Global Average Pooling for some reason\n",
        "  x = GlobalAveragePooling2D()(x)\n",
        "  \n",
        "  # add a dense layer\n",
        "  x = Dense(1024, activation='relu')(x)\n",
        "  \n",
        "  # a dense layer to compute the predicted keypoints\n",
        "  coords = Dense(30, activation='linear')(x)\n",
        "  model = Model(inputs=base_model.input, outputs=coords)\n",
        "  \n",
        "  for layer in base_model.layers:\n",
        "    layer.trainable = False\n",
        "  return model\n",
        "\n",
        "\n",
        "# normal learning\n",
        "\n",
        "def make_model_custom():\n",
        "  model = Sequential()\n",
        "  model.add(Conv2D(32, (3, 3), padding='same',\n",
        "                   input_shape=x_train.shape[1:]))\n",
        "  model.add(Activation('relu'))\n",
        "  model.add(Conv2D(32, (3, 3)))\n",
        "  model.add(Activation('relu'))\n",
        "  model.add(MaxPooling2D(pool_size=(2, 2)))\n",
        "  model.add(Dropout(0.25))\n",
        "\n",
        "  model.add(Conv2D(64, (3, 3), padding='same'))\n",
        "  model.add(Activation('relu'))\n",
        "  model.add(Conv2D(64, (3, 3)))\n",
        "  model.add(Activation('relu'))\n",
        "  model.add(MaxPooling2D(pool_size=(2, 2)))\n",
        "  model.add(Dropout(0.25))\n",
        "\n",
        "  model.add(Flatten())\n",
        "  model.add(Dense(512))\n",
        "  model.add(Activation('relu'))\n",
        "  model.add(Dropout(0.5))\n",
        "  model.add(Dense(30))\n",
        "  model.add(Activation('linear'))\n",
        "  return model\n",
        "\n",
        "modelC =  make_model_custom()\n",
        "modelC.compile(optimizer = 'adam',loss='mean_squared_error' )\n",
        "modelC.fit(x_train,y_train, batch_size=32, epochs=100, validation_split = 0.1)\n",
        "\n",
        "#modelT =  make_model_transfer()\n",
        "#modelT.compile(optimizer = 'adam',loss='mean_squared_error')\n",
        "#modelT.fit(x_train,y_train, batch_size=32, epochs=100, validation_split = 0.1)\n",
        "\n",
        "\n",
        "# I'm note sure how but it would be nice to have an accuracy metric that meausures being 'near enough' eg in a 5 pixel box\n",
        "\n",
        "# remember to activate the GPU before training (edit -> notebook settings), runs really quick for me ~2 per epoch, loss went down to 20ish but stayed there\n",
        "# Tried Transfer learning, error went way down to 3ish, I suspect this is overfitting though, can't quite quantify this yet\n",
        "#val_acc = model.history.history['val_acc']\n",
        "#plt.plot(val_acc)"
      ],
      "execution_count": 61,
      "outputs": [
        {
          "output_type": "stream",
          "text": [
            "Using TensorFlow backend.\n",
            "WARNING: Logging before flag parsing goes to stderr.\n",
            "W0707 11:10:24.242220 140667721799552 deprecation_wrapper.py:119] From /usr/local/lib/python3.6/dist-packages/keras/backend/tensorflow_backend.py:74: The name tf.get_default_graph is deprecated. Please use tf.compat.v1.get_default_graph instead.\n",
            "\n",
            "W0707 11:10:24.277095 140667721799552 deprecation_wrapper.py:119] From /usr/local/lib/python3.6/dist-packages/keras/backend/tensorflow_backend.py:517: The name tf.placeholder is deprecated. Please use tf.compat.v1.placeholder instead.\n",
            "\n",
            "W0707 11:10:24.286623 140667721799552 deprecation_wrapper.py:119] From /usr/local/lib/python3.6/dist-packages/keras/backend/tensorflow_backend.py:4138: The name tf.random_uniform is deprecated. Please use tf.random.uniform instead.\n",
            "\n",
            "W0707 11:10:24.335923 140667721799552 deprecation_wrapper.py:119] From /usr/local/lib/python3.6/dist-packages/keras/backend/tensorflow_backend.py:3976: The name tf.nn.max_pool is deprecated. Please use tf.nn.max_pool2d instead.\n",
            "\n",
            "W0707 11:10:24.339880 140667721799552 deprecation_wrapper.py:119] From /usr/local/lib/python3.6/dist-packages/keras/backend/tensorflow_backend.py:133: The name tf.placeholder_with_default is deprecated. Please use tf.compat.v1.placeholder_with_default instead.\n",
            "\n",
            "W0707 11:10:24.352475 140667721799552 deprecation.py:506] From /usr/local/lib/python3.6/dist-packages/keras/backend/tensorflow_backend.py:3445: calling dropout (from tensorflow.python.ops.nn_ops) with keep_prob is deprecated and will be removed in a future version.\n",
            "Instructions for updating:\n",
            "Please use `rate` instead of `keep_prob`. Rate should be set to `rate = 1 - keep_prob`.\n",
            "W0707 11:10:24.482788 140667721799552 deprecation_wrapper.py:119] From /usr/local/lib/python3.6/dist-packages/keras/optimizers.py:790: The name tf.train.Optimizer is deprecated. Please use tf.compat.v1.train.Optimizer instead.\n",
            "\n",
            "W0707 11:10:24.903365 140667721799552 deprecation_wrapper.py:119] From /usr/local/lib/python3.6/dist-packages/keras/backend/tensorflow_backend.py:986: The name tf.assign_add is deprecated. Please use tf.compat.v1.assign_add instead.\n",
            "\n"
          ],
          "name": "stderr"
        },
        {
          "output_type": "stream",
          "text": [
            "Train on 3852 samples, validate on 428 samples\n",
            "Epoch 1/100\n",
            "3852/3852 [==============================] - 16s 4ms/step - loss: 222.4942 - val_loss: 233.4960\n",
            "Epoch 2/100\n",
            "3852/3852 [==============================] - 9s 2ms/step - loss: 55.1938 - val_loss: 312.6795\n",
            "Epoch 3/100\n",
            "3852/3852 [==============================] - 9s 2ms/step - loss: 42.2509 - val_loss: 164.0404\n",
            "Epoch 4/100\n",
            "3852/3852 [==============================] - 9s 2ms/step - loss: 34.5701 - val_loss: 124.9831\n",
            "Epoch 5/100\n",
            "3852/3852 [==============================] - 9s 2ms/step - loss: 31.8416 - val_loss: 68.5816\n",
            "Epoch 6/100\n",
            "3852/3852 [==============================] - 9s 2ms/step - loss: 29.8826 - val_loss: 55.3997\n",
            "Epoch 7/100\n",
            "3852/3852 [==============================] - 9s 2ms/step - loss: 27.5442 - val_loss: 46.0579\n",
            "Epoch 8/100\n",
            "3852/3852 [==============================] - 9s 2ms/step - loss: 25.6936 - val_loss: 26.5729\n",
            "Epoch 9/100\n",
            "3852/3852 [==============================] - 9s 2ms/step - loss: 25.7499 - val_loss: 38.8934\n",
            "Epoch 10/100\n",
            "3852/3852 [==============================] - 9s 2ms/step - loss: 25.7069 - val_loss: 25.0484\n",
            "Epoch 11/100\n",
            "3852/3852 [==============================] - 9s 2ms/step - loss: 24.4574 - val_loss: 42.1671\n",
            "Epoch 12/100\n",
            "3852/3852 [==============================] - 9s 2ms/step - loss: 23.9120 - val_loss: 26.7910\n",
            "Epoch 13/100\n",
            "3852/3852 [==============================] - 9s 2ms/step - loss: 22.3902 - val_loss: 17.8895\n",
            "Epoch 14/100\n",
            "3852/3852 [==============================] - 9s 2ms/step - loss: 22.4168 - val_loss: 37.8173\n",
            "Epoch 15/100\n",
            "3852/3852 [==============================] - 9s 2ms/step - loss: 23.0352 - val_loss: 17.7994\n",
            "Epoch 16/100\n",
            "3852/3852 [==============================] - 9s 2ms/step - loss: 21.7977 - val_loss: 29.2221\n",
            "Epoch 17/100\n",
            "3852/3852 [==============================] - 9s 2ms/step - loss: 22.0595 - val_loss: 19.0169\n",
            "Epoch 18/100\n",
            "3852/3852 [==============================] - 9s 2ms/step - loss: 21.0039 - val_loss: 19.2620\n",
            "Epoch 19/100\n",
            "3852/3852 [==============================] - 9s 2ms/step - loss: 21.8556 - val_loss: 18.7119\n",
            "Epoch 20/100\n",
            "3852/3852 [==============================] - 9s 2ms/step - loss: 20.9799 - val_loss: 17.4217\n",
            "Epoch 21/100\n",
            "3852/3852 [==============================] - 9s 2ms/step - loss: 20.8313 - val_loss: 23.9563\n",
            "Epoch 22/100\n",
            "3852/3852 [==============================] - 9s 2ms/step - loss: 21.5483 - val_loss: 15.3032\n",
            "Epoch 23/100\n",
            "3852/3852 [==============================] - 9s 2ms/step - loss: 20.6127 - val_loss: 19.7016\n",
            "Epoch 24/100\n",
            "3852/3852 [==============================] - 9s 2ms/step - loss: 20.3724 - val_loss: 21.3602\n",
            "Epoch 25/100\n",
            "3852/3852 [==============================] - 9s 2ms/step - loss: 20.6845 - val_loss: 27.4362\n",
            "Epoch 26/100\n",
            "3852/3852 [==============================] - 9s 2ms/step - loss: 20.1790 - val_loss: 22.1890\n",
            "Epoch 27/100\n",
            "3852/3852 [==============================] - 9s 2ms/step - loss: 20.1057 - val_loss: 29.1218\n",
            "Epoch 28/100\n",
            "3852/3852 [==============================] - 9s 2ms/step - loss: 21.5304 - val_loss: 14.5688\n",
            "Epoch 29/100\n",
            "3852/3852 [==============================] - 9s 2ms/step - loss: 21.4270 - val_loss: 15.2787\n",
            "Epoch 30/100\n",
            "3852/3852 [==============================] - 9s 2ms/step - loss: 20.0160 - val_loss: 14.5240\n",
            "Epoch 31/100\n",
            "3852/3852 [==============================] - 9s 2ms/step - loss: 20.0819 - val_loss: 14.7354\n",
            "Epoch 32/100\n",
            "3852/3852 [==============================] - 9s 2ms/step - loss: 19.2827 - val_loss: 16.1422\n",
            "Epoch 33/100\n",
            "3852/3852 [==============================] - 9s 2ms/step - loss: 20.5133 - val_loss: 18.1332\n",
            "Epoch 34/100\n",
            "3852/3852 [==============================] - 9s 2ms/step - loss: 20.0687 - val_loss: 13.6971\n",
            "Epoch 35/100\n",
            "3852/3852 [==============================] - 9s 2ms/step - loss: 19.5277 - val_loss: 16.3157\n",
            "Epoch 36/100\n",
            "3852/3852 [==============================] - 9s 2ms/step - loss: 19.7157 - val_loss: 16.2777\n",
            "Epoch 37/100\n",
            "3852/3852 [==============================] - 9s 2ms/step - loss: 19.6296 - val_loss: 12.9326\n",
            "Epoch 38/100\n",
            "3852/3852 [==============================] - 9s 2ms/step - loss: 19.7825 - val_loss: 13.2018\n",
            "Epoch 39/100\n",
            "3852/3852 [==============================] - 9s 2ms/step - loss: 19.5182 - val_loss: 12.7619\n",
            "Epoch 40/100\n",
            "3852/3852 [==============================] - 9s 2ms/step - loss: 19.1090 - val_loss: 14.1710\n",
            "Epoch 41/100\n",
            "3852/3852 [==============================] - 9s 2ms/step - loss: 19.6070 - val_loss: 13.3064\n",
            "Epoch 42/100\n",
            "3852/3852 [==============================] - 9s 2ms/step - loss: 19.1070 - val_loss: 13.4696\n",
            "Epoch 43/100\n",
            "3852/3852 [==============================] - 9s 2ms/step - loss: 18.8435 - val_loss: 18.5237\n",
            "Epoch 44/100\n",
            "3852/3852 [==============================] - 9s 2ms/step - loss: 19.6343 - val_loss: 15.9655\n",
            "Epoch 45/100\n",
            "3852/3852 [==============================] - 9s 2ms/step - loss: 19.8670 - val_loss: 12.5737\n",
            "Epoch 46/100\n",
            "3852/3852 [==============================] - 9s 2ms/step - loss: 19.4775 - val_loss: 16.6465\n",
            "Epoch 47/100\n",
            "3852/3852 [==============================] - 9s 2ms/step - loss: 19.1900 - val_loss: 19.7250\n",
            "Epoch 48/100\n",
            "3852/3852 [==============================] - 9s 2ms/step - loss: 20.1139 - val_loss: 12.9016\n",
            "Epoch 49/100\n",
            "3852/3852 [==============================] - 9s 2ms/step - loss: 18.9853 - val_loss: 12.3152\n",
            "Epoch 50/100\n",
            "3852/3852 [==============================] - 9s 2ms/step - loss: 18.9029 - val_loss: 11.9328\n",
            "Epoch 51/100\n",
            "3852/3852 [==============================] - 9s 2ms/step - loss: 19.2264 - val_loss: 11.9865\n",
            "Epoch 52/100\n",
            "3852/3852 [==============================] - 9s 2ms/step - loss: 19.1770 - val_loss: 13.5018\n",
            "Epoch 53/100\n",
            "3852/3852 [==============================] - 9s 2ms/step - loss: 18.6248 - val_loss: 12.6423\n",
            "Epoch 54/100\n",
            "3852/3852 [==============================] - 9s 2ms/step - loss: 18.3890 - val_loss: 12.6039\n",
            "Epoch 55/100\n",
            "3852/3852 [==============================] - 9s 2ms/step - loss: 18.4850 - val_loss: 13.6344\n",
            "Epoch 56/100\n",
            "3852/3852 [==============================] - 9s 2ms/step - loss: 19.0506 - val_loss: 11.6919\n",
            "Epoch 57/100\n",
            "3852/3852 [==============================] - 9s 2ms/step - loss: 19.1307 - val_loss: 12.0588\n",
            "Epoch 58/100\n",
            "3852/3852 [==============================] - 9s 2ms/step - loss: 18.5768 - val_loss: 12.6655\n",
            "Epoch 59/100\n",
            "3852/3852 [==============================] - 9s 2ms/step - loss: 17.8790 - val_loss: 12.3574\n",
            "Epoch 60/100\n",
            "3852/3852 [==============================] - 9s 2ms/step - loss: 18.4243 - val_loss: 13.5422\n",
            "Epoch 61/100\n",
            "3852/3852 [==============================] - 9s 2ms/step - loss: 18.0991 - val_loss: 15.8904\n",
            "Epoch 62/100\n",
            "3852/3852 [==============================] - 9s 2ms/step - loss: 18.7965 - val_loss: 13.8049\n",
            "Epoch 63/100\n",
            "3852/3852 [==============================] - 9s 2ms/step - loss: 18.5337 - val_loss: 10.7994\n",
            "Epoch 64/100\n",
            "3852/3852 [==============================] - 9s 2ms/step - loss: 18.3098 - val_loss: 11.7067\n",
            "Epoch 65/100\n",
            "3852/3852 [==============================] - 9s 2ms/step - loss: 18.7869 - val_loss: 11.8758\n",
            "Epoch 66/100\n",
            "3852/3852 [==============================] - 9s 2ms/step - loss: 18.2030 - val_loss: 10.9501\n",
            "Epoch 67/100\n",
            "3852/3852 [==============================] - 9s 2ms/step - loss: 18.1350 - val_loss: 11.0468\n",
            "Epoch 68/100\n",
            "3852/3852 [==============================] - 9s 2ms/step - loss: 18.1320 - val_loss: 13.8206\n",
            "Epoch 69/100\n",
            "3852/3852 [==============================] - 9s 2ms/step - loss: 18.3371 - val_loss: 12.0330\n",
            "Epoch 70/100\n",
            "3852/3852 [==============================] - 9s 2ms/step - loss: 18.6854 - val_loss: 10.9798\n",
            "Epoch 71/100\n",
            "3852/3852 [==============================] - 9s 2ms/step - loss: 18.4432 - val_loss: 13.0208\n",
            "Epoch 72/100\n",
            "3852/3852 [==============================] - 9s 2ms/step - loss: 18.1943 - val_loss: 10.5550\n",
            "Epoch 73/100\n",
            "3852/3852 [==============================] - 9s 2ms/step - loss: 17.9197 - val_loss: 11.2757\n",
            "Epoch 74/100\n",
            "3852/3852 [==============================] - 9s 2ms/step - loss: 19.3445 - val_loss: 11.1704\n",
            "Epoch 75/100\n",
            "3852/3852 [==============================] - 9s 2ms/step - loss: 19.1312 - val_loss: 11.0667\n",
            "Epoch 76/100\n",
            "3852/3852 [==============================] - 9s 2ms/step - loss: 18.6563 - val_loss: 11.1565\n",
            "Epoch 77/100\n",
            "3852/3852 [==============================] - 9s 2ms/step - loss: 18.1889 - val_loss: 10.4834\n",
            "Epoch 78/100\n",
            "3852/3852 [==============================] - 9s 2ms/step - loss: 18.2406 - val_loss: 14.7503\n",
            "Epoch 79/100\n",
            "3852/3852 [==============================] - 9s 2ms/step - loss: 18.6342 - val_loss: 11.4509\n",
            "Epoch 80/100\n",
            "3852/3852 [==============================] - 9s 2ms/step - loss: 18.3424 - val_loss: 10.2597\n",
            "Epoch 81/100\n",
            "3852/3852 [==============================] - 9s 2ms/step - loss: 18.7713 - val_loss: 11.2368\n",
            "Epoch 82/100\n",
            "3852/3852 [==============================] - 9s 2ms/step - loss: 17.4772 - val_loss: 10.9175\n",
            "Epoch 83/100\n",
            "3852/3852 [==============================] - 9s 2ms/step - loss: 18.0156 - val_loss: 10.9161\n",
            "Epoch 84/100\n",
            "3852/3852 [==============================] - 9s 2ms/step - loss: 17.3973 - val_loss: 10.7121\n",
            "Epoch 85/100\n",
            "3852/3852 [==============================] - 9s 2ms/step - loss: 17.4393 - val_loss: 11.4787\n",
            "Epoch 86/100\n",
            "3852/3852 [==============================] - 9s 2ms/step - loss: 18.0497 - val_loss: 10.6698\n",
            "Epoch 87/100\n",
            "3852/3852 [==============================] - 9s 2ms/step - loss: 17.6340 - val_loss: 10.3558\n",
            "Epoch 88/100\n",
            "3852/3852 [==============================] - 9s 2ms/step - loss: 17.9884 - val_loss: 12.4213\n",
            "Epoch 89/100\n",
            "3852/3852 [==============================] - 9s 2ms/step - loss: 17.6217 - val_loss: 9.9214\n",
            "Epoch 90/100\n",
            "3852/3852 [==============================] - 9s 2ms/step - loss: 17.5870 - val_loss: 12.2355\n",
            "Epoch 91/100\n",
            "3852/3852 [==============================] - 9s 2ms/step - loss: 18.6482 - val_loss: 9.9464\n",
            "Epoch 92/100\n",
            "3852/3852 [==============================] - 9s 2ms/step - loss: 17.6040 - val_loss: 10.6909\n",
            "Epoch 93/100\n",
            "3852/3852 [==============================] - 9s 2ms/step - loss: 16.9776 - val_loss: 12.0900\n",
            "Epoch 94/100\n",
            "3852/3852 [==============================] - 9s 2ms/step - loss: 17.3936 - val_loss: 9.7182\n",
            "Epoch 95/100\n",
            "3852/3852 [==============================] - 9s 2ms/step - loss: 17.6730 - val_loss: 12.2261\n",
            "Epoch 96/100\n",
            "3852/3852 [==============================] - 9s 2ms/step - loss: 17.8586 - val_loss: 10.9646\n",
            "Epoch 97/100\n",
            "3852/3852 [==============================] - 9s 2ms/step - loss: 18.7425 - val_loss: 12.2550\n",
            "Epoch 98/100\n",
            "3852/3852 [==============================] - 9s 2ms/step - loss: 17.8036 - val_loss: 12.4627\n",
            "Epoch 99/100\n",
            "3852/3852 [==============================] - 9s 2ms/step - loss: 17.5194 - val_loss: 11.5404\n",
            "Epoch 100/100\n",
            "3852/3852 [==============================] - 9s 2ms/step - loss: 18.2178 - val_loss: 11.1127\n"
          ],
          "name": "stdout"
        },
        {
          "output_type": "execute_result",
          "data": {
            "text/plain": [
              "<keras.callbacks.History at 0x7fef5cddf7b8>"
            ]
          },
          "metadata": {
            "tags": []
          },
          "execution_count": 61
        }
      ]
    },
    {
      "cell_type": "code",
      "metadata": {
        "id": "_Iu4Uafl4r_i",
        "colab_type": "code",
        "outputId": "476898b2-f826-4232-a696-f2803f04012a",
        "colab": {
          "base_uri": "https://localhost:8080/",
          "height": 521
        }
      },
      "source": [
        "# This already looks like it has the right idea but not yet perfect for me \n",
        "keys = modelT.predict(x_train[100].reshape(1,96,96,3))\n",
        "plt.imshow(plotWithKeypoints2(Training['Image'][100],keys))\n",
        "plt.show()\n",
        "plt.imshow(plotWithKeypoints1(Training.iloc[100,:]))\n",
        "plt.show()"
      ],
      "execution_count": 0,
      "outputs": [
        {
          "output_type": "display_data",
          "data": {
            "image/png": "[encoded data removed]",
            "text/plain": [
              "<Figure size 432x288 with 1 Axes>"
            ]
          },
          "metadata": {
            "tags": []
          }
        },
        {
          "output_type": "display_data",
          "data": {
            "image/png": "[encoded data removed]",
            "text/plain": [
              "<Figure size 432x288 with 1 Axes>"
            ]
          },
          "metadata": {
            "tags": []
          }
        }
      ]
    },
    {
      "cell_type": "code",
      "metadata": {
        "id": "-Q8GzJveRLRk",
        "colab_type": "code",
        "outputId": "bbf1d1ea-4fd0-4857-f1ac-fe3ecf24b026",
        "colab": {
          "base_uri": "https://localhost:8080/",
          "height": 521
        }
      },
      "source": [
        "keys = modelC.predict(x_train[50].reshape(1,96,96,3))\n",
        "plt.imshow(plotWithKeypoints2(Training['Image'][50],keys))\n",
        "plt.show()\n",
        "plt.imshow(plotWithKeypoints1(Training.iloc[50,:]))\n",
        "plt.show()"
      ],
      "execution_count": 64,
      "outputs": [
        {
          "output_type": "display_data",
          "data": {
            "image/png": "[encoded data removed]",
            "text/plain": [
              "<Figure size 432x288 with 1 Axes>"
            ]
          },
          "metadata": {
            "tags": []
          }
        },
        {
          "output_type": "display_data",
          "data": {
            "image/png": "[encoded data removed]",
            "text/plain": [
              "<Figure size 432x288 with 1 Axes>"
            ]
          },
          "metadata": {
            "tags": []
          }
        }
      ]
    },
    {
      "cell_type": "code",
      "metadata": {
        "id": "XFndxnrDcbxU",
        "colab_type": "code",
        "outputId": "7a026fa5-04e7-40cd-f6f2-01d8a086b56e",
        "colab": {
          "base_uri": "https://localhost:8080/",
          "height": 1000
        }
      },
      "source": [
        "for i, layer in enumerate(modelT.layers):\n",
        "   print(i, layer.name)"
      ],
      "execution_count": 0,
      "outputs": [
        {
          "output_type": "stream",
          "text": [
            "0 input_5\n",
            "1 block1_conv1\n",
            "2 block1_conv1_bn\n",
            "3 block1_conv1_act\n",
            "4 block1_conv2\n",
            "5 block1_conv2_bn\n",
            "6 block1_conv2_act\n",
            "7 block2_sepconv1\n",
            "8 block2_sepconv1_bn\n",
            "9 block2_sepconv2_act\n",
            "10 block2_sepconv2\n",
            "11 block2_sepconv2_bn\n",
            "12 conv2d_25\n",
            "13 block2_pool\n",
            "14 batch_normalization_17\n",
            "15 add_49\n",
            "16 block3_sepconv1_act\n",
            "17 block3_sepconv1\n",
            "18 block3_sepconv1_bn\n",
            "19 block3_sepconv2_act\n",
            "20 block3_sepconv2\n",
            "21 block3_sepconv2_bn\n",
            "22 conv2d_26\n",
            "23 block3_pool\n",
            "24 batch_normalization_18\n",
            "25 add_50\n",
            "26 block4_sepconv1_act\n",
            "27 block4_sepconv1\n",
            "28 block4_sepconv1_bn\n",
            "29 block4_sepconv2_act\n",
            "30 block4_sepconv2\n",
            "31 block4_sepconv2_bn\n",
            "32 conv2d_27\n",
            "33 block4_pool\n",
            "34 batch_normalization_19\n",
            "35 add_51\n",
            "36 block5_sepconv1_act\n",
            "37 block5_sepconv1\n",
            "38 block5_sepconv1_bn\n",
            "39 block5_sepconv2_act\n",
            "40 block5_sepconv2\n",
            "41 block5_sepconv2_bn\n",
            "42 block5_sepconv3_act\n",
            "43 block5_sepconv3\n",
            "44 block5_sepconv3_bn\n",
            "45 add_52\n",
            "46 block6_sepconv1_act\n",
            "47 block6_sepconv1\n",
            "48 block6_sepconv1_bn\n",
            "49 block6_sepconv2_act\n",
            "50 block6_sepconv2\n",
            "51 block6_sepconv2_bn\n",
            "52 block6_sepconv3_act\n",
            "53 block6_sepconv3\n",
            "54 block6_sepconv3_bn\n",
            "55 add_53\n",
            "56 block7_sepconv1_act\n",
            "57 block7_sepconv1\n",
            "58 block7_sepconv1_bn\n",
            "59 block7_sepconv2_act\n",
            "60 block7_sepconv2\n",
            "61 block7_sepconv2_bn\n",
            "62 block7_sepconv3_act\n",
            "63 block7_sepconv3\n",
            "64 block7_sepconv3_bn\n",
            "65 add_54\n",
            "66 block8_sepconv1_act\n",
            "67 block8_sepconv1\n",
            "68 block8_sepconv1_bn\n",
            "69 block8_sepconv2_act\n",
            "70 block8_sepconv2\n",
            "71 block8_sepconv2_bn\n",
            "72 block8_sepconv3_act\n",
            "73 block8_sepconv3\n",
            "74 block8_sepconv3_bn\n",
            "75 add_55\n",
            "76 block9_sepconv1_act\n",
            "77 block9_sepconv1\n",
            "78 block9_sepconv1_bn\n",
            "79 block9_sepconv2_act\n",
            "80 block9_sepconv2\n",
            "81 block9_sepconv2_bn\n",
            "82 block9_sepconv3_act\n",
            "83 block9_sepconv3\n",
            "84 block9_sepconv3_bn\n",
            "85 add_56\n",
            "86 block10_sepconv1_act\n",
            "87 block10_sepconv1\n",
            "88 block10_sepconv1_bn\n",
            "89 block10_sepconv2_act\n",
            "90 block10_sepconv2\n",
            "91 block10_sepconv2_bn\n",
            "92 block10_sepconv3_act\n",
            "93 block10_sepconv3\n",
            "94 block10_sepconv3_bn\n",
            "95 add_57\n",
            "96 block11_sepconv1_act\n",
            "97 block11_sepconv1\n",
            "98 block11_sepconv1_bn\n",
            "99 block11_sepconv2_act\n",
            "100 block11_sepconv2\n",
            "101 block11_sepconv2_bn\n",
            "102 block11_sepconv3_act\n",
            "103 block11_sepconv3\n",
            "104 block11_sepconv3_bn\n",
            "105 add_58\n",
            "106 block12_sepconv1_act\n",
            "107 block12_sepconv1\n",
            "108 block12_sepconv1_bn\n",
            "109 block12_sepconv2_act\n",
            "110 block12_sepconv2\n",
            "111 block12_sepconv2_bn\n",
            "112 block12_sepconv3_act\n",
            "113 block12_sepconv3\n",
            "114 block12_sepconv3_bn\n",
            "115 add_59\n",
            "116 block13_sepconv1_act\n",
            "117 block13_sepconv1\n",
            "118 block13_sepconv1_bn\n",
            "119 block13_sepconv2_act\n",
            "120 block13_sepconv2\n",
            "121 block13_sepconv2_bn\n",
            "122 conv2d_28\n",
            "123 block13_pool\n",
            "124 batch_normalization_20\n",
            "125 add_60\n",
            "126 block14_sepconv1\n",
            "127 block14_sepconv1_bn\n",
            "128 block14_sepconv1_act\n",
            "129 block14_sepconv2\n",
            "130 block14_sepconv2_bn\n",
            "131 block14_sepconv2_act\n",
            "132 global_average_pooling2d_4\n",
            "133 dense_12\n",
            "134 dense_13\n",
            "135 dense_14\n"
          ],
          "name": "stdout"
        }
      ]
    },
    {
      "cell_type": "code",
      "metadata": {
        "id": "i0rwYRePjA0a",
        "colab_type": "code",
        "outputId": "8ad67a87-c10a-4f5b-b8d6-9075231f8480",
        "colab": {
          "base_uri": "https://localhost:8080/",
          "height": 307
        }
      },
      "source": [
        "# Test Augmentation \n",
        "\n",
        "images = (x_train[0:50]*255).astype(np.uint8)\n",
        "keys= y_train[0:50]\n",
        "#ia.imshow(image)\n",
        "\n",
        "keys = keys.reshape(keys.shape[0],15,2)\n",
        "\n",
        "keypoints =[]\n",
        "for k in range(50):\n",
        "  kps = KeypointsOnImage([Keypoint(*keys[k,i,:]) for i in range(15)], shape=image.shape)\n",
        "  keypoints.append(kps)\n",
        "  \n",
        "\n",
        "seq = iaa.Sequential([\n",
        "    iaa.Affine(rotate=10,)\n",
        "])\n",
        "\n",
        "image_aug, kps_aug = seq(images=images, keypoints=keypoints)\n",
        "print(image_aug.shape)\n",
        "print(kps_aug)\n",
        "\n",
        "\n",
        "# image with keypoints before/after augmentation (shown below)\n",
        "image_before = keypoints[30].draw_on_image(images[30], size=2)\n",
        "image_after = kps_aug[30].draw_on_image(image_aug[30], size=2)\n",
        "ia.imshow(image_before)\n",
        "ia.imshow(image_after)"
      ],
      "execution_count": 0,
      "outputs": [
        {
          "output_type": "stream",
          "text": [
            "(50, 96, 96, 3)\n",
            "[KeypointsOnImage([Keypoint(x=67.22760997, y=42.34969233), Keypoint(x=32.41315315, y=33.59055749), Keypoint(x=60.76210885, y=41.86475174), Keypoint(x=74.04853685, y=44.53505832), Keypoint(x=38.28155210, y=35.60796710), Keypoint(x=25.57388842, y=33.36726313), Keypoint(x=60.01629449, y=30.95573470), Keypoint(x=82.38185949, y=38.14315785), Keypoint(x=43.55017991, y=28.02050488), Keypoint(x=19.92957936, y=24.51065740), Keypoint(x=42.80609593, y=56.38672440), Keypoint(x=55.34886049, y=81.85503963), Keypoint(x=23.71124042, y=73.65547804), Keypoint(x=38.95939850, y=71.82189974), Keypoint(x=36.77457440, y=83.16515440)], shape=(96, 96, 3)), KeypointsOnImage([Keypoint(x=66.25300718, y=38.08344440), Keypoint(x=32.65589090, y=30.61453455), Keypoint(x=60.80660688, y=37.43206266), Keypoint(x=72.33437284, y=40.39161556), Keypoint(x=38.49037980, y=32.57020910), Keypoint(x=27.31516681, y=29.36385522), Keypoint(x=57.22706697, y=29.69453186), Keypoint(x=81.12957278, y=36.07202120), Keypoint(x=46.50941170, y=25.64195520), Keypoint(x=20.88033806, y=22.04975670), Keypoint(x=46.77843717, y=55.65959902), Keypoint(x=51.27581415, y=77.46286385), Keypoint(x=30.35317765, y=73.46460710), Keypoint(x=42.74361389, y=69.77908741), Keypoint(x=38.90359901, y=84.55029913)], shape=(96, 96, 3)), KeypointsOnImage([Keypoint(x=66.97661438, y=38.14966730), Keypoint(x=33.34221610, y=32.21901540), Keypoint(x=61.17224715, y=38.55930011), Keypoint(x=72.56885808, y=40.56883010), Keypoint(x=39.76853949, y=34.78524896), Keypoint(x=27.21081079, y=32.85759005), Keypoint(x=59.07794813, y=29.30501453), Keypoint(x=80.98891626, y=38.32756211), Keypoint(x=45.63712354, y=27.50824753), Keypoint(x=19.93411416, y=26.98873824), Keypoint(x=46.50774015, y=53.45714638), Keypoint(x=56.19002902, y=74.94019872), Keypoint(x=29.55407657, y=69.95689607), Keypoint(x=43.33797958, y=69.80796863), Keypoint(x=41.86759927, y=78.14690972)], shape=(96, 96, 3)), KeypointsOnImage([Keypoint(x=66.73429434, y=40.49535603), Keypoint(x=34.03607276, y=34.72977735), Keypoint(x=61.26730931, y=41.42556200), Keypoint(x=73.52122489, y=42.82853441), Keypoint(x=39.28747151, y=37.17110635), Keypoint(x=27.29271265, y=34.29838321), Keypoint(x=59.17545653, y=32.73294184), Keypoint(x=80.19785571, y=37.18697068), Keypoint(x=44.61657473, y=30.28779610), Keypoint(x=23.92343157, y=25.48079243), Keypoint(x=50.66082702, y=54.82671942), Keypoint(x=60.94734179, y=75.46365728), Keypoint(x=32.76566230, y=72.00923988), Keypoint(x=46.33757324, y=70.23523610), Keypoint(x=46.15661244, y=78.50615558)], shape=(96, 96, 3)), KeypointsOnImage([Keypoint(x=67.80135665, y=43.07939628), Keypoint(x=34.11892804, y=35.53668189), Keypoint(x=59.76590408, y=41.66252919), Keypoint(x=73.45830523, y=44.34413581), Keypoint(x=38.60170475, y=37.39617996), Keypoint(x=24.48247835, y=34.10478268), Keypoint(x=60.02357199, y=32.62082369), Keypoint(x=80.04035817, y=37.23182471), Keypoint(x=41.05563865, y=29.54353021), Keypoint(x=19.32767283, y=25.44503867), Keypoint(x=40.34369012, y=63.89592958), Keypoint(x=55.25782554, y=79.35430995), Keypoint(x=26.31736193, y=73.71727197), Keypoint(x=40.45043053, y=72.86865176), Keypoint(x=37.44013379, y=85.70470022)], shape=(96, 96, 3)), KeypointsOnImage([Keypoint(x=70.65156108, y=43.93480932), Keypoint(x=31.18729819, y=34.53370788), Keypoint(x=63.90384952, y=42.94862249), Keypoint(x=77.55048673, y=46.37297669), Keypoint(x=37.98183668, y=37.56386222), Keypoint(x=23.70795179, y=34.23252410), Keypoint(x=62.33202854, y=34.02208388), Keypoint(x=84.87798128, y=41.76149263), Keypoint(x=42.47489965, y=29.39879494), Keypoint(x=18.10908257, y=26.73092303), Keypoint(x=50.43078003, y=59.49109553), Keypoint(x=58.53253075, y=84.95599575), Keypoint(x=26.29265710, y=78.45676908), Keypoint(x=43.89969916, y=78.33082901), Keypoint(x=41.34595487, y=93.52941712)], shape=(96, 96, 3)), KeypointsOnImage([Keypoint(x=66.17307668, y=37.37882135), Keypoint(x=32.34514218, y=30.24427191), Keypoint(x=59.78456981, y=37.12968608), Keypoint(x=70.99342932, y=38.22877958), Keypoint(x=37.34909630, y=31.71148998), Keypoint(x=26.95754382, y=29.29429296), Keypoint(x=62.03552109, y=29.33949748), Keypoint(x=78.98274062, y=34.37484841), Keypoint(x=43.88735095, y=26.13948544), Keypoint(x=23.37016152, y=23.10663732), Keypoint(x=45.90874753, y=52.81053689), Keypoint(x=51.64975117, y=71.65857311), Keypoint(x=30.14873008, y=67.57491807), Keypoint(x=42.10763397, y=64.42027660), Keypoint(x=40.14122683, y=77.23086316)], shape=(96, 96, 3)), KeypointsOnImage([Keypoint(x=68.56973687, y=43.00386720), Keypoint(x=30.99965931, y=36.59072505), Keypoint(x=60.59519976, y=42.65512600), Keypoint(x=76.46055899, y=45.02966450), Keypoint(x=38.85385855, y=38.82154095), Keypoint(x=22.72332690, y=35.55434061), Keypoint(x=59.38659450, y=29.11873512), Keypoint(x=86.38864708, y=37.89808170), Keypoint(x=43.46074902, y=25.88762648), Keypoint(x=15.10918671, y=25.96402019), Keypoint(x=46.25225466, y=56.83308462), Keypoint(x=60.90204165, y=82.89069159), Keypoint(x=24.58719390, y=77.75607538), Keypoint(x=43.96196373, y=71.02157462), Keypoint(x=40.93657232, y=90.57865335)], shape=(96, 96, 3)), KeypointsOnImage([Keypoint(x=67.73792886, y=38.12708323), Keypoint(x=29.74477650, y=32.88033248), Keypoint(x=60.24886111, y=39.42034930), Keypoint(x=74.58067160, y=40.49561784), Keypoint(x=38.32771263, y=35.26456674), Keypoint(x=22.45441808, y=33.04666192), Keypoint(x=61.25760285, y=27.10960609), Keypoint(x=82.06689036, y=34.43827984), Keypoint(x=40.21500450, y=24.56120270), Keypoint(x=16.22390680, y=25.55850255), Keypoint(x=46.69822916, y=55.32818185), Keypoint(x=60.75109821, y=76.10390327), Keypoint(x=26.70169977, y=71.55189585), Keypoint(x=45.68874500, y=67.63944492), Keypoint(x=43.28846229, y=82.89959023)], shape=(96, 96, 3)), KeypointsOnImage([Keypoint(x=65.73711834, y=39.79001726), Keypoint(x=31.32476464, y=35.39748748), Keypoint(x=60.12930501, y=39.91848995), Keypoint(x=72.68374247, y=41.57340937), Keypoint(x=37.90493275, y=37.67503400), Keypoint(x=24.53782647, y=35.87669132), Keypoint(x=60.12828995, y=30.42316728), Keypoint(x=78.62497616, y=34.80166375), Keypoint(x=39.94221356, y=27.70159159), Keypoint(x=19.62993725, y=28.86749910), Keypoint(x=47.78434116, y=54.49721624), Keypoint(x=61.72721985, y=72.03589792), Keypoint(x=28.70081383, y=69.28435867), Keypoint(x=45.76286989, y=67.54565952), Keypoint(x=44.41002466, y=76.80213613)], shape=(96, 96, 3)), KeypointsOnImage([Keypoint(x=67.24557669, y=37.62134436), Keypoint(x=31.44182004, y=30.89710382), Keypoint(x=60.65669735, y=37.69277546), Keypoint(x=71.81706171, y=39.66064881), Keypoint(x=36.81155172, y=33.07715683), Keypoint(x=26.77604077, y=31.71870158), Keypoint(x=57.13863840, y=29.67401043), Keypoint(x=79.06157684, y=33.53961598), Keypoint(x=42.34370235, y=25.01080542), Keypoint(x=20.53825415, y=22.81021905), Keypoint(x=46.68504518, y=51.66852946), Keypoint(x=52.80671271, y=72.88695889), Keypoint(x=30.22790340, y=68.08355341), Keypoint(x=43.40108421, y=64.81130682), Keypoint(x=40.28804943, y=80.95370989)], shape=(96, 96, 3)), KeypointsOnImage([Keypoint(x=67.76742789, y=43.34264060), Keypoint(x=32.04039411, y=35.95446470), Keypoint(x=62.13432634, y=42.34937282), Keypoint(x=73.85726114, y=45.86890960), Keypoint(x=37.83951158, y=38.06554148), Keypoint(x=26.63461945, y=35.72670282), Keypoint(x=58.59089179, y=31.55974430), Keypoint(x=82.59677181, y=41.60087010), Keypoint(x=47.44809645, y=28.86873723), Keypoint(x=18.41180601, y=28.83167523), Keypoint(x=46.89285251, y=56.72511941), Keypoint(x=55.45069332, y=84.37280335), Keypoint(x=27.82114534, y=78.41243267), Keypoint(x=44.09906196, y=72.56949293), Keypoint(x=39.60766683, y=93.92277442)], shape=(96, 96, 3)), KeypointsOnImage([Keypoint(x=68.05477188, y=40.77513147), Keypoint(x=32.47418515, y=34.50131404), Keypoint(x=60.46253306, y=40.42020242), Keypoint(x=75.08561940, y=43.16090214), Keypoint(x=39.78604490, y=36.85005714), Keypoint(x=25.55840023, y=34.71459045), Keypoint(x=61.20170677, y=29.24852178), Keypoint(x=81.73921164, y=36.30924781), Keypoint(x=42.48021987, y=26.52076130), Keypoint(x=22.35197058, y=25.26433406), Keypoint(x=48.84522656, y=54.89093259), Keypoint(x=59.13175392, y=76.74796578), Keypoint(x=30.68130247, y=72.30407948), Keypoint(x=45.42882696, y=68.31231966), Keypoint(x=43.28913090, y=83.69872752)], shape=(96, 96, 3)), KeypointsOnImage([Keypoint(x=67.18159680, y=38.21687706), Keypoint(x=35.76458816, y=30.68362881), Keypoint(x=62.48664800, y=37.38903091), Keypoint(x=71.63251109, y=40.42504299), Keypoint(x=39.43609529, y=32.47020483), Keypoint(x=30.27432683, y=31.13953639), Keypoint(x=61.15413784, y=32.02835836), Keypoint(x=78.09662383, y=34.44618257), Keypoint(x=43.63767938, y=28.20448684), Keypoint(x=26.47244809, y=23.63530128), Keypoint(x=46.94333466, y=52.87153075), Keypoint(x=53.32967152, y=69.94244297), Keypoint(x=31.75684675, y=64.71522226), Keypoint(x=43.71261822, y=63.12161719), Keypoint(x=41.58601650, y=73.56702411)], shape=(96, 96, 3)), KeypointsOnImage([Keypoint(x=67.80363143, y=42.38610356), Keypoint(x=30.82771276, y=33.19065440), Keypoint(x=62.98533372, y=41.53650767), Keypoint(x=73.84260271, y=44.97899258), Keypoint(x=36.56202821, y=35.34845449), Keypoint(x=24.70120963, y=33.25707216), Keypoint(x=59.60476642, y=32.53311549), Keypoint(x=80.90541117, y=37.43482338), Keypoint(x=40.52848150, y=28.02276814), Keypoint(x=20.40545826, y=22.94562471), Keypoint(x=45.85105644, y=54.18319676), Keypoint(x=56.14497435, y=78.16238040), Keypoint(x=26.82126924, y=71.08153476), Keypoint(x=41.55897123, y=69.85876656), Keypoint(x=38.39965302, y=83.44070649)], shape=(96, 96, 3)), KeypointsOnImage([Keypoint(x=70.18666811, y=39.72156083), Keypoint(x=29.94949313, y=33.76585150), Keypoint(x=64.06258925, y=38.92651903), Keypoint(x=75.74231633, y=42.12516029), Keypoint(x=36.85349723, y=34.98321370), Keypoint(x=23.35439300, y=34.02694232), Keypoint(x=61.39676359, y=28.20611650), Keypoint(x=84.44734909, y=33.12475663), Keypoint(x=41.91972476, y=25.62598903), Keypoint(x=16.98584874, y=24.93094846), Keypoint(x=48.63336500, y=56.99231101), Keypoint(x=58.22046154, y=81.74626141), Keypoint(x=31.40088623, y=75.59389703), Keypoint(x=45.54892522, y=71.25471478), Keypoint(x=42.74069314, y=85.56581755)], shape=(96, 96, 3)), KeypointsOnImage([Keypoint(x=68.74005699, y=37.47725228), Keypoint(x=32.93966292, y=33.40702567), Keypoint(x=62.30690755, y=37.62428706), Keypoint(x=73.81999646, y=37.73233316), Keypoint(x=38.78747349, y=34.75847914), Keypoint(x=26.41560082, y=32.25665750), Keypoint(x=62.30666145, y=32.17857184), Keypoint(x=80.08784400, y=33.07159694), Keypoint(x=41.83909823, y=30.17128556), Keypoint(x=21.33363778, y=25.88300176), Keypoint(x=47.05151547, y=60.56101936), Keypoint(x=59.88179221, y=74.99555988), Keypoint(x=31.50150611, y=70.63214254), Keypoint(x=46.01104046, y=71.90897928), Keypoint(x=44.45924561, y=82.52670351)], shape=(96, 96, 3)), KeypointsOnImage([Keypoint(x=68.61644007, y=39.17737778), Keypoint(x=34.66142121, y=34.09152317), Keypoint(x=62.92608444, y=39.07534590), Keypoint(x=73.33035018, y=39.70812741), Keypoint(x=40.04349586, y=35.94192533), Keypoint(x=28.14808313, y=33.54399934), Keypoint(x=61.57117789, y=34.16602462), Keypoint(x=78.83112930, y=34.06817994), Keypoint(x=43.29927657, y=31.10789532), Keypoint(x=24.83915811, y=28.45376593), Keypoint(x=47.81078265, y=58.34305636), Keypoint(x=60.94220583, y=74.17874893), Keypoint(x=31.75257180, y=69.33167228), Keypoint(x=46.28713759, y=70.39262648), Keypoint(x=43.90592569, y=80.48860063)], shape=(96, 96, 3)), KeypointsOnImage([Keypoint(x=69.07633728, y=42.26506931), Keypoint(x=30.24062139, y=33.18317115), Keypoint(x=61.30211317, y=42.01129355), Keypoint(x=77.65469904, y=45.56491578), Keypoint(x=40.08059170, y=36.92893032), Keypoint(x=22.75903874, y=32.53418642), Keypoint(x=61.05819531, y=29.45733003), Keypoint(x=87.60795974, y=41.06446708), Keypoint(x=45.52061846, y=23.81330418), Keypoint(x=17.44264173, y=20.87310624), Keypoint(x=46.74886642, y=54.86040499), Keypoint(x=60.78493344, y=81.68708482), Keypoint(x=22.87946267, y=73.66308874), Keypoint(x=43.16936467, y=70.09163806), Keypoint(x=39.09326016, y=88.13924534)], shape=(96, 96, 3)), KeypointsOnImage([Keypoint(x=70.20189520, y=43.90911546), Keypoint(x=27.52147411, y=34.40365613), Keypoint(x=61.36742086, y=42.35135928), Keypoint(x=77.04858237, y=45.51249923), Keypoint(x=35.13566209, y=36.14237100), Keypoint(x=19.70320016, y=33.81733968), Keypoint(x=62.63171150, y=30.69313332), Keypoint(x=85.26111076, y=39.72661623), Keypoint(x=39.22299575, y=24.18966751), Keypoint(x=15.77090619, y=22.43030900), Keypoint(x=43.63429477, y=59.81871364), Keypoint(x=56.10922542, y=83.40481576), Keypoint(x=23.84477247, y=77.71572218), Keypoint(x=41.55795993, y=76.08727978), Keypoint(x=37.87730827, y=92.46820650)], shape=(96, 96, 3)), KeypointsOnImage([Keypoint(x=67.20886437, y=39.93386173), Keypoint(x=33.20581675, y=36.66097223), Keypoint(x=60.63629154, y=40.07509136), Keypoint(x=74.29190727, y=41.45513064), Keypoint(x=39.45049907, y=38.30675289), Keypoint(x=25.86285056, y=36.05405782), Keypoint(x=60.86944771, y=29.55834649), Keypoint(x=80.51977779, y=35.47377976), Keypoint(x=41.65504518, y=28.89315416), Keypoint(x=21.36889836, y=29.67264237), Keypoint(x=49.68970640, y=55.90411418), Keypoint(x=61.82307874, y=73.56374642), Keypoint(x=32.57369284, y=71.12905187), Keypoint(x=47.23709294, y=68.26907449), Keypoint(x=45.20379034, y=82.88606117)], shape=(96, 96, 3)), KeypointsOnImage([Keypoint(x=66.68238009, y=38.12189867), Keypoint(x=33.88739589, y=34.63218766), Keypoint(x=61.74958377, y=38.23476614), Keypoint(x=72.34506079, y=39.44793291), Keypoint(x=39.86711192, y=36.01412379), Keypoint(x=29.21562040, y=35.11863099), Keypoint(x=57.93637922, y=31.99396114), Keypoint(x=77.89244224, y=32.64476130), Keypoint(x=40.50163747, y=30.55750001), Keypoint(x=22.13306100, y=29.65765298), Keypoint(x=48.70873934, y=54.60606816), Keypoint(x=58.80234251, y=75.38378422), Keypoint(x=35.70486595, y=72.62157370), Keypoint(x=46.39381739, y=69.59269352), Keypoint(x=45.89091609, y=83.58891800)], shape=(96, 96, 3)), KeypointsOnImage([Keypoint(x=67.59703485, y=40.53774681), Keypoint(x=30.02249601, y=34.19894930), Keypoint(x=61.28563351, y=40.57136835), Keypoint(x=73.69632458, y=43.33291911), Keypoint(x=36.26881774, y=36.16022876), Keypoint(x=23.71108904, y=34.23256985), Keypoint(x=59.94343585, y=30.30327056), Keypoint(x=81.29813074, y=34.35528691), Keypoint(x=38.58874095, y=26.25125420), Keypoint(x=18.13405160, y=25.22400207), Keypoint(x=46.78422227, y=52.91844741), Keypoint(x=57.48146655, y=80.02592836), Keypoint(x=30.69844710, y=75.87670606), Keypoint(x=44.07246493, y=69.92337076), Keypoint(x=42.40689140, y=84.24670139)], shape=(96, 96, 3)), KeypointsOnImage([Keypoint(x=66.47804525, y=39.02801968), Keypoint(x=33.28765850, y=36.48408875), Keypoint(x=60.79980674, y=39.95685274), Keypoint(x=72.84895193, y=40.42710524), Keypoint(x=39.17077508, y=37.52144093), Keypoint(x=26.41348742, y=36.37512608), Keypoint(x=60.13721017, y=29.63814516), Keypoint(x=79.20277100, y=34.10281114), Keypoint(x=41.08852231, y=28.20940919), Keypoint(x=20.30982006, y=30.33587030), Keypoint(x=49.90068133, y=54.85427404), Keypoint(x=62.06225585, y=71.88797930), Keypoint(x=32.44262426, y=69.42246724), Keypoint(x=48.04628385, y=66.93513804), Keypoint(x=46.66340081, y=76.34191074)], shape=(96, 96, 3)), KeypointsOnImage([Keypoint(x=68.44082933, y=37.20113788), Keypoint(x=31.68422696, y=31.10218310), Keypoint(x=61.94460430, y=37.20150764), Keypoint(x=73.49910909, y=38.85750483), Keypoint(x=38.22462763, y=33.01903578), Keypoint(x=26.23390967, y=31.66920443), Keypoint(x=63.79577825, y=24.53524546), Keypoint(x=82.54533735, y=30.89852508), Keypoint(x=45.17804137, y=23.92751995), Keypoint(x=17.77358037, y=23.29902659), Keypoint(x=48.78143808, y=53.19407694), Keypoint(x=56.69615262, y=75.63784421), Keypoint(x=34.95958804, y=71.04064953), Keypoint(x=46.62243185, y=67.74678162), Keypoint(x=43.57303797, y=82.87787560)], shape=(96, 96, 3)), KeypointsOnImage([Keypoint(x=66.19990530, y=39.65215177), Keypoint(x=34.08797322, y=35.56836714), Keypoint(x=59.96484932, y=39.58293186), Keypoint(x=71.09824794, y=40.51586173), Keypoint(x=38.57279453, y=36.99059648), Keypoint(x=28.10896188, y=35.46122277), Keypoint(x=59.81346301, y=29.70112808), Keypoint(x=79.09334448, y=32.77066726), Keypoint(x=42.78583036, y=29.20981949), Keypoint(x=23.02909890, y=26.67329520), Keypoint(x=47.21998478, y=57.77226777), Keypoint(x=56.85756225, y=76.51865544), Keypoint(x=30.61730221, y=73.15479774), Keypoint(x=44.37640013, y=72.10831896), Keypoint(x=43.24368973, y=80.69953248)], shape=(96, 96, 3)), KeypointsOnImage([Keypoint(x=67.17134361, y=38.55032835), Keypoint(x=32.09839501, y=35.85115822), Keypoint(x=61.92294775, y=38.66988793), Keypoint(x=73.21602258, y=37.87320861), Keypoint(x=37.16854668, y=36.74516276), Keypoint(x=25.95454280, y=35.11642326), Keypoint(x=58.42257894, y=32.82536032), Keypoint(x=77.92674944, y=28.94560199), Keypoint(x=40.05055803, y=30.28306124), Keypoint(x=18.99063875, y=27.05079716), Keypoint(x=47.35203926, y=63.98253761), Keypoint(x=61.90798739, y=76.30815745), Keypoint(x=32.06418658, y=75.57602442), Keypoint(x=46.43851876, y=71.14033300), Keypoint(x=45.88363140, y=82.19508629)], shape=(96, 96, 3)), KeypointsOnImage([Keypoint(x=66.67845474, y=42.15770782), Keypoint(x=33.71693165, y=36.70278473), Keypoint(x=61.01479432, y=41.87321719), Keypoint(x=72.09707853, y=43.82732290), Keypoint(x=38.85022590, y=37.96500576), Keypoint(x=26.72876071, y=35.82766440), Keypoint(x=58.67080699, y=32.88981629), Keypoint(x=78.76326938, y=36.99876845), Keypoint(x=42.45524244, y=29.67341065), Keypoint(x=21.24800726, y=28.43366936), Keypoint(x=45.12800524, y=59.06904685), Keypoint(x=55.09239521, y=81.53754640), Keypoint(x=26.75536360, y=76.18379907), Keypoint(x=42.64426927, y=71.12943526), Keypoint(x=39.26568810, y=92.31589948)], shape=(96, 96, 3)), KeypointsOnImage([Keypoint(x=66.73259650, y=41.37557544), Keypoint(x=30.87229074, y=36.50443826), Keypoint(x=59.67901752, y=41.37634723), Keypoint(x=73.26574263, y=43.14956700), Keypoint(x=37.44083910, y=38.07764282), Keypoint(x=23.68836077, y=36.06769822), Keypoint(x=58.07932100, y=29.26955868), Keypoint(x=83.05179134, y=34.71012333), Keypoint(x=41.71165764, y=26.79839537), Keypoint(x=16.43213771, y=25.45271156), Keypoint(x=44.73333343, y=55.54488082), Keypoint(x=57.86169119, y=81.09411320), Keypoint(x=27.87180290, y=77.05105964), Keypoint(x=43.14976520, y=70.40955469), Keypoint(x=40.82074696, y=89.49924946)], shape=(96, 96, 3)), KeypointsOnImage([Keypoint(x=74.24743901, y=38.93153834), Keypoint(x=31.48945958, y=29.77860059), Keypoint(x=65.80954352, y=37.98153982), Keypoint(x=80.49138172, y=41.64600426), Keypoint(x=38.17821553, y=31.49583885), Keypoint(x=23.74218700, y=29.48820764), Keypoint(x=61.19047107, y=29.09943888), Keypoint(x=89.86467513, y=35.76902510), Keypoint(x=43.02542366, y=25.35862079), Keypoint(x=18.95421381, y=20.03855680), Keypoint(x=43.07561449, y=52.52837407), Keypoint(x=60.82963236, y=81.47497232), Keypoint(x=25.58892765, y=73.91681016), Keypoint(x=41.13003202, y=74.23695067), Keypoint(x=39.26040761, y=87.89098476)], shape=(96, 96, 3)), KeypointsOnImage([Keypoint(x=66.02908044, y=38.33210535), Keypoint(x=33.13881226, y=32.53266366), Keypoint(x=59.06167012, y=38.01182791), Keypoint(x=73.55327025, y=40.37095879), Keypoint(x=39.63879683, y=34.61331781), Keypoint(x=25.99570197, y=33.09959459), Keypoint(x=60.34275377, y=27.67767043), Keypoint(x=78.27641353, y=33.97033954), Keypoint(x=41.06997097, y=24.54028083), Keypoint(x=20.87502523, y=25.15295308), Keypoint(x=47.32409593, y=51.20816295), Keypoint(x=57.55123121, y=73.09781303), Keypoint(x=30.34622074, y=69.08360168), Keypoint(x=45.31668169, y=62.59277485), Keypoint(x=42.64077962, y=82.20785622)], shape=(96, 96, 3)), KeypointsOnImage([Keypoint(x=66.82079694, y=38.45309007), Keypoint(x=31.52567199, y=32.22960725), Keypoint(x=60.92573663, y=38.74210679), Keypoint(x=73.50447969, y=41.22577278), Keypoint(x=37.69398401, y=34.91141620), Keypoint(x=24.34219331, y=32.29144105), Keypoint(x=61.57640345, y=29.02802411), Keypoint(x=80.82343585, y=35.87511686), Keypoint(x=42.16333455, y=26.13624656), Keypoint(x=19.76458503, y=25.10879405), Keypoint(x=47.22778242, y=50.13995824), Keypoint(x=56.50603506, y=74.35528898), Keypoint(x=28.33344119, y=69.91908898), Keypoint(x=45.10833728, y=65.17358235), Keypoint(x=41.35260023, y=80.44947981)], shape=(96, 96, 3)), KeypointsOnImage([Keypoint(x=70.78383692, y=41.80834269), Keypoint(x=31.02882148, y=32.61026035), Keypoint(x=63.96318586, y=41.00361492), Keypoint(x=77.19617745, y=44.92869265), Keypoint(x=37.31624690, y=35.31064350), Keypoint(x=23.36868008, y=32.05544095), Keypoint(x=60.15901516, y=32.61359173), Keypoint(x=86.04698063, y=38.73091157), Keypoint(x=43.20525408, y=28.55233949), Keypoint(x=17.48878619, y=23.65862302), Keypoint(x=46.43552505, y=57.30237863), Keypoint(x=58.15894122, y=82.94835240), Keypoint(x=25.08847502, y=75.32686961), Keypoint(x=40.79461819, y=76.50498759), Keypoint(x=39.08253784, y=87.34308427)], shape=(96, 96, 3)), KeypointsOnImage([Keypoint(x=69.24913976, y=39.38100623), Keypoint(x=33.33269476, y=30.91716174), Keypoint(x=62.84707414, y=39.43569555), Keypoint(x=76.31377833, y=42.28386882), Keypoint(x=38.89779742, y=34.26605873), Keypoint(x=26.55176609, y=30.43141342), Keypoint(x=63.65610551, y=30.81830601), Keypoint(x=82.72892224, y=36.78579630), Keypoint(x=44.36757589, y=27.41721782), Keypoint(x=22.16119533, y=23.51011104), Keypoint(x=47.57243442, y=53.55305832), Keypoint(x=55.30132180, y=75.51454983), Keypoint(x=27.98904662, y=69.27776499), Keypoint(x=44.45408638, y=67.20894421), Keypoint(x=40.10679615, y=81.12228348)], shape=(96, 96, 3)), KeypointsOnImage([Keypoint(x=67.16731912, y=38.91681918), Keypoint(x=32.72916555, y=31.59079778), Keypoint(x=61.23064875, y=38.81026124), Keypoint(x=73.49697804, y=40.34632123), Keypoint(x=37.32497094, y=33.96822044), Keypoint(x=26.90037226, y=30.87643666), Keypoint(x=61.90961564, y=31.40795578), Keypoint(x=80.32563798, y=31.83442180), Keypoint(x=42.09819320, y=28.22807989), Keypoint(x=21.80346069, y=22.45568799), Keypoint(x=43.08586732, y=63.50519802), Keypoint(x=54.81741367, y=78.73721581), Keypoint(x=27.21048028, y=73.55589034), Keypoint(x=40.51295318, y=72.76735888), Keypoint(x=38.94104261, y=83.45995221)], shape=(96, 96, 3)), KeypointsOnImage([Keypoint(x=67.62714532, y=40.23328482), Keypoint(x=28.60736178, y=34.22452213), Keypoint(x=61.56265167, y=40.03542889), Keypoint(x=73.81618330, y=42.19605713), Keypoint(x=34.09927928, y=35.19289536), Keypoint(x=21.69766218, y=33.87763746), Keypoint(x=58.40495693, y=30.76589257), Keypoint(x=81.71776568, y=34.44092762), Keypoint(x=37.90133545, y=28.45757605), Keypoint(x=17.76929982, y=24.03637197), Keypoint(x=44.44142191, y=53.13594615), Keypoint(x=58.43741161, y=80.00037618), Keypoint(x=25.82926031, y=74.68642215), Keypoint(x=41.65955749, y=71.37834580), Keypoint(x=40.46883575, y=85.54488170)], shape=(96, 96, 3)), KeypointsOnImage([Keypoint(x=66.74868843, y=37.45802111), Keypoint(x=33.76240831, y=29.56736265), Keypoint(x=60.89892546, y=37.01939228), Keypoint(x=71.82072535, y=38.94520027), Keypoint(x=38.73317276, y=31.62886457), Keypoint(x=28.43627557, y=29.51748699), Keypoint(x=60.39038353, y=29.81692926), Keypoint(x=79.39446062, y=34.64997018), Keypoint(x=43.95699613, y=27.21570272), Keypoint(x=24.24242625, y=21.36878181), Keypoint(x=45.71905545, y=54.19904811), Keypoint(x=54.88448521, y=69.44790129), Keypoint(x=30.65629756, y=63.99013370), Keypoint(x=44.09728081, y=63.39658916), Keypoint(x=40.51474007, y=76.98981489)], shape=(96, 96, 3)), KeypointsOnImage([Keypoint(x=67.99048960, y=39.06780765), Keypoint(x=32.45738850, y=34.69646093), Keypoint(x=61.70525737, y=38.90659855), Keypoint(x=73.80822007, y=40.09363050), Keypoint(x=39.19313181, y=35.88415421), Keypoint(x=26.02787800, y=33.56276476), Keypoint(x=60.94825892, y=32.45939182), Keypoint(x=78.41776644, y=33.64556796), Keypoint(x=41.60574069, y=29.36446629), Keypoint(x=22.19088068, y=28.46656497), Keypoint(x=46.85068570, y=58.70089288), Keypoint(x=59.56750677, y=76.09655879), Keypoint(x=30.37359957, y=71.58038934), Keypoint(x=45.50118499, y=71.72247179), Keypoint(x=44.17024093, y=82.85209008)], shape=(96, 96, 3)), KeypointsOnImage([Keypoint(x=69.36977552, y=35.99487487), Keypoint(x=30.07594656, y=29.06631265), Keypoint(x=62.67188297, y=35.68513995), Keypoint(x=75.62066917, y=38.83964458), Keypoint(x=36.05371023, y=30.99163792), Keypoint(x=22.91820458, y=28.89331493), Keypoint(x=61.75136633, y=28.55240295), Keypoint(x=83.83362144, y=31.79263714), Keypoint(x=39.50725480, y=23.75888168), Keypoint(x=18.18237098, y=18.69180099), Keypoint(x=46.35836055, y=52.84861290), Keypoint(x=56.78760091, y=76.47017920), Keypoint(x=26.36649556, y=71.10611754), Keypoint(x=42.86902546, y=71.40200535), Keypoint(x=40.60895286, y=82.98390380)], shape=(96, 96, 3)), KeypointsOnImage([Keypoint(x=66.31557107, y=37.72607872), Keypoint(x=34.89137887, y=34.87061264), Keypoint(x=61.53189444, y=37.77774437), Keypoint(x=70.99654784, y=38.25300844), Keypoint(x=39.47029823, y=35.97638272), Keypoint(x=28.76314551, y=34.08842281), Keypoint(x=60.28850897, y=31.29227771), Keypoint(x=77.92427893, y=31.11963515), Keypoint(x=43.48678018, y=30.12005733), Keypoint(x=22.10614176, y=27.84200081), Keypoint(x=48.80232583, y=60.89652003), Keypoint(x=57.80954281, y=74.12169388), Keypoint(x=31.74721951, y=71.31691202), Keypoint(x=46.59053650, y=70.05498105), Keypoint(x=45.55333640, y=77.62984492)], shape=(96, 96, 3)), KeypointsOnImage([Keypoint(x=70.69276262, y=41.94133398), Keypoint(x=30.86124764, y=33.77153330), Keypoint(x=63.34572028, y=40.26370759), Keypoint(x=77.10234688, y=44.60008337), Keypoint(x=37.77223402, y=35.75441197), Keypoint(x=23.92803373, y=34.07759125), Keypoint(x=59.36100123, y=30.07961824), Keypoint(x=84.33976804, y=38.23330345), Keypoint(x=40.16882388, y=24.33040843), Keypoint(x=19.50153876, y=24.50763308), Keypoint(x=45.57931246, y=54.32767608), Keypoint(x=61.25735659, y=78.11040468), Keypoint(x=27.66163336, y=71.42211261), Keypoint(x=44.31738294, y=70.15532201), Keypoint(x=40.06834725, y=87.74962391)], shape=(96, 96, 3)), KeypointsOnImage([Keypoint(x=67.11514283, y=41.61769070), Keypoint(x=32.38412360, y=37.44829293), Keypoint(x=59.73935626, y=42.27175851), Keypoint(x=73.55212050, y=44.70732152), Keypoint(x=38.05617360, y=40.12372502), Keypoint(x=24.83286636, y=37.51340536), Keypoint(x=58.70249510, y=32.31459278), Keypoint(x=78.92005689, y=36.43813515), Keypoint(x=39.79104463, y=28.70067248), Keypoint(x=20.38633369, y=29.46828127), Keypoint(x=47.39351820, y=52.10313455), Keypoint(x=60.63674525, y=81.52672915), Keypoint(x=27.64163553, y=75.42947974), Keypoint(x=43.55646655, y=70.69591574), Keypoint(x=42.01266158, y=81.03537884)], shape=(96, 96, 3)), KeypointsOnImage([Keypoint(x=68.15353363, y=42.66836429), Keypoint(x=31.17764084, y=33.27154183), Keypoint(x=62.64320376, y=41.28567223), Keypoint(x=74.32067484, y=44.98875096), Keypoint(x=37.08577247, y=34.72428798), Keypoint(x=25.12805058, y=32.61581898), Keypoint(x=60.18050851, y=34.27560558), Keypoint(x=82.36156308, y=39.00869023), Keypoint(x=42.92328862, y=29.58875761), Keypoint(x=20.95397868, y=23.66005984), Keypoint(x=46.28036186, y=54.83979496), Keypoint(x=56.10690297, y=78.35487607), Keypoint(x=25.90761532, y=70.15331605), Keypoint(x=42.48376828, y=69.37738378), Keypoint(x=39.29674671, y=82.78922442)], shape=(96, 96, 3)), KeypointsOnImage([Keypoint(x=67.58013253, y=41.45608530), Keypoint(x=31.06922472, y=34.24700433), Keypoint(x=62.58814357, y=41.34708192), Keypoint(x=73.80512206, y=43.32493787), Keypoint(x=37.29420983, y=36.11586000), Keypoint(x=25.32926748, y=34.00611784), Keypoint(x=57.50557459, y=30.81235137), Keypoint(x=83.83398005, y=38.92439275), Keypoint(x=42.30750601, y=27.36130093), Keypoint(x=18.35594361, y=25.45165693), Keypoint(x=47.64612928, y=49.51639687), Keypoint(x=57.86422022, y=79.06741677), Keypoint(x=29.38143163, y=74.43074408), Keypoint(x=44.11661323, y=67.39041183), Keypoint(x=41.34758509, y=83.09435077)], shape=(96, 96, 3)), KeypointsOnImage([Keypoint(x=66.64427874, y=41.81990478), Keypoint(x=32.55662000, y=35.52075947), Keypoint(x=59.48467741, y=43.15395379), Keypoint(x=73.62299294, y=44.78121006), Keypoint(x=37.75805075, y=38.74582446), Keypoint(x=25.28130313, y=34.23792481), Keypoint(x=55.76638145, y=32.57204283), Keypoint(x=82.39543841, y=40.84650159), Keypoint(x=43.00414090, y=29.96148935), Keypoint(x=18.02193116, y=26.32209666), Keypoint(x=42.84654030, y=58.97333862), Keypoint(x=55.78709727, y=83.75900676), Keypoint(x=23.85590572, y=76.68582709), Keypoint(x=40.06747933, y=76.37074616), Keypoint(x=38.34061979, y=86.16425323)], shape=(96, 96, 3)), KeypointsOnImage([Keypoint(x=69.34214570, y=38.91360377), Keypoint(x=31.44085276, y=33.65115554), Keypoint(x=62.66936304, y=39.15758447), Keypoint(x=75.23167845, y=40.42560883), Keypoint(x=36.87000224, y=35.08198260), Keypoint(x=25.01099852, y=32.51739876), Keypoint(x=57.91353684, y=31.21603202), Keypoint(x=83.11813315, y=33.29255469), Keypoint(x=40.00305586, y=28.05793098), Keypoint(x=18.71517443, y=25.25135198), Keypoint(x=48.81278737, y=53.28796410), Keypoint(x=60.86445918, y=76.24859678), Keypoint(x=29.85128256, y=72.20103080), Keypoint(x=46.19501157, y=70.82019748), Keypoint(x=45.57497322, y=79.70878792)], shape=(96, 96, 3)), KeypointsOnImage([Keypoint(x=66.98962373, y=41.36787519), Keypoint(x=32.99608272, y=36.49775550), Keypoint(x=60.33550054, y=42.44292265), Keypoint(x=74.23737848, y=44.89419881), Keypoint(x=39.42640301, y=39.88057476), Keypoint(x=25.66814270, y=36.61125465), Keypoint(x=58.60243522, y=33.14330364), Keypoint(x=78.22864723, y=36.60393435), Keypoint(x=41.15677235, y=30.06716258), Keypoint(x=21.69075054, y=28.88312857), Keypoint(x=45.79410785, y=54.77523193), Keypoint(x=58.56090527, y=81.19786535), Keypoint(x=27.71058539, y=76.03924025), Keypoint(x=43.31133355, y=72.04439496), Keypoint(x=41.30831888, y=81.80973048)], shape=(96, 96, 3)), KeypointsOnImage([Keypoint(x=67.67530912, y=44.36809457), Keypoint(x=33.44849916, y=35.37881758), Keypoint(x=61.46163490, y=44.01017283), Keypoint(x=73.08828012, y=47.16807861), Keypoint(x=38.92448220, y=37.82146460), Keypoint(x=26.16076051, y=34.83233436), Keypoint(x=59.05965160, y=32.51098562), Keypoint(x=81.53387581, y=45.33465033), Keypoint(x=47.30671173, y=30.06935436), Keypoint(x=19.41984665, y=26.99850391), Keypoint(x=46.02292702, y=59.75890036), Keypoint(x=51.56845565, y=85.46219657), Keypoint(x=27.17760976, y=79.31507609), Keypoint(x=42.76335101, y=74.67949558), Keypoint(x=37.87907593, y=91.90841131)], shape=(96, 96, 3)), KeypointsOnImage([Keypoint(x=66.71698927, y=40.32759767), Keypoint(x=32.59040500, y=34.31016011), Keypoint(x=61.78423889, y=39.79300630), Keypoint(x=72.83468846, y=41.74149871), Keypoint(x=37.67640582, y=35.87657902), Keypoint(x=27.92626284, y=34.15736575), Keypoint(x=59.14481855, y=31.95504618), Keypoint(x=79.42946360, y=32.85030123), Keypoint(x=43.10514830, y=29.79643930), Keypoint(x=22.41906371, y=25.47930471), Keypoint(x=44.50479448, y=59.86865862), Keypoint(x=56.30349111, y=80.38048783), Keypoint(x=28.23800853, y=76.10214949), Keypoint(x=42.21250990, y=72.86885052), Keypoint(x=39.78674115, y=88.52697879)], shape=(96, 96, 3)), KeypointsOnImage([Keypoint(x=66.91023693, y=42.35376698), Keypoint(x=34.76843039, y=36.68629928), Keypoint(x=61.68039604, y=41.69892990), Keypoint(x=71.74435221, y=43.74020534), Keypoint(x=40.12049164, y=38.16406549), Keypoint(x=29.27932724, y=35.98574726), Keypoint(x=58.70596078, y=31.28522436), Keypoint(x=81.85228057, y=36.43560669), Keypoint(x=45.22711844, y=28.90854078), Keypoint(x=20.86115283, y=24.61216364), Keypoint(x=47.71638436, y=58.74724496), Keypoint(x=60.28269807, y=75.39558696), Keypoint(x=29.65017812, y=70.26157604), Keypoint(x=46.07104363, y=68.07843592), Keypoint(x=42.70375374, y=85.65921062)], shape=(96, 96, 3))]\n"
          ],
          "name": "stdout"
        },
        {
          "output_type": "display_data",
          "data": {
            "image/png": "[encoded data removed]",
            "text/plain": [
              "<Figure size 576x96 with 1 Axes>"
            ]
          },
          "metadata": {
            "tags": []
          }
        },
        {
          "output_type": "display_data",
          "data": {
            "image/png": "[encoded data removed]",
            "text/plain": [
              "<Figure size 576x96 with 1 Axes>"
            ]
          },
          "metadata": {
            "tags": []
          }
        }
      ]
    },
    {
      "cell_type": "code",
      "metadata": {
        "id": "hQT6CLT26Xh8",
        "colab_type": "code",
        "colab": {}
      },
      "source": [
        ""
      ],
      "execution_count": 0,
      "outputs": []
    }
  ]
}